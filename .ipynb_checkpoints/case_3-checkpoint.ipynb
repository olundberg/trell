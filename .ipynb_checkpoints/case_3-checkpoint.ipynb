{
 "cells": [
  {
   "cell_type": "code",
   "execution_count": 3,
   "id": "49ffc565-bd1c-4f93-b125-57eee7e6c1cc",
   "metadata": {},
   "outputs": [],
   "source": [
    "# Introduction"
   ]
  },
  {
   "cell_type": "code",
   "execution_count": 4,
   "id": "c5ebf8f2-54f7-49d5-b8e0-f75614e2a3c7",
   "metadata": {},
   "outputs": [],
   "source": [
    "# Hej\n"
   ]
  },
  {
   "cell_type": "code",
   "execution_count": null,
   "id": "de8ff1b8-2fc0-4b50-9159-42121d730503",
   "metadata": {},
   "outputs": [],
   "source": []
  }
 ],
 "metadata": {
  "kernelspec": {
   "display_name": "Python 3",
   "language": "python",
   "name": "python3"
  },
  "language_info": {
   "codemirror_mode": {
    "name": "ipython",
    "version": 3
   },
   "file_extension": ".py",
   "mimetype": "text/x-python",
   "name": "python",
   "nbconvert_exporter": "python",
   "pygments_lexer": "ipython3",
   "version": "3.6.12"
  }
 },
 "nbformat": 4,
 "nbformat_minor": 5
}
