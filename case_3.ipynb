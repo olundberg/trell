{
 "cells": [
  {
   "cell_type": "markdown",
   "id": "195028a6-9986-4db5-8e55-00a93c5c4f2c",
   "metadata": {},
   "source": [
    "# Case 3 @ Trell\n",
    "\n",
    "2021-09-06\n",
    "Oscar Lundberg\n",
    "\n",
    "lundberg.oscar@gmail.com\n",
    "\n",
    "I am here presenting the Case 3. Usually when I write Notebooks, I find myself usually putting the code outside the Notebook.\n",
    "The reason for this is two-fold\n",
    "\n",
    "* The Notebook in my opinion should focus on the data and the storytelling, unless the code itself is the purpose of the Notebook.\n",
    "* Having the code in a more dev-style project form, facilitates the testing in a more dev-style fashion, and also, if code is written for use in larger frameworks later on, that is facilitated."
   ]
  },
  {
   "cell_type": "markdown",
   "id": "aff8ac7b-c562-4d53-99b7-c6466b12ac89",
   "metadata": {},
   "source": [
    "## 1. Introduction\n",
    "\n"
   ]
  },
  {
   "cell_type": "code",
   "execution_count": 10,
   "id": "27ebb0ab-83ec-4270-aab5-f02410da3e1c",
   "metadata": {},
   "outputs": [],
   "source": [
    "import numpy as np\n",
    "import pandas as pd"
   ]
  },
  {
   "cell_type": "markdown",
   "id": "0e0e0842-b62b-4649-9bb5-34d0bdb1b355",
   "metadata": {},
   "source": [
    "## 2. Loading the data"
   ]
  },
  {
   "cell_type": "code",
   "execution_count": 25,
   "id": "9578718f-7cf8-4570-a689-67872ceb3062",
   "metadata": {},
   "outputs": [
    {
     "name": "stdout",
     "output_type": "stream",
     "text": [
      "Number of rows: 64992\n",
      "tstamp                    object\n",
      "consumed_heat            float64\n",
      "temp                     float64\n",
      "cloud                    float64\n",
      "day_of_week               object\n",
      "holiday_in_general       float64\n",
      "school_holiday_period    float64\n",
      "public_holiday_period    float64\n",
      "wind_direction           float64\n",
      "wind_speed               float64\n",
      "dtype: object\n"
     ]
    },
    {
     "data": {
      "text/html": [
       "<div>\n",
       "<style scoped>\n",
       "    .dataframe tbody tr th:only-of-type {\n",
       "        vertical-align: middle;\n",
       "    }\n",
       "\n",
       "    .dataframe tbody tr th {\n",
       "        vertical-align: top;\n",
       "    }\n",
       "\n",
       "    .dataframe thead th {\n",
       "        text-align: right;\n",
       "    }\n",
       "</style>\n",
       "<table border=\"1\" class=\"dataframe\">\n",
       "  <thead>\n",
       "    <tr style=\"text-align: right;\">\n",
       "      <th></th>\n",
       "      <th>tstamp</th>\n",
       "      <th>consumed_heat</th>\n",
       "      <th>temp</th>\n",
       "      <th>cloud</th>\n",
       "      <th>day_of_week</th>\n",
       "      <th>holiday_in_general</th>\n",
       "      <th>school_holiday_period</th>\n",
       "      <th>public_holiday_period</th>\n",
       "      <th>wind_direction</th>\n",
       "      <th>wind_speed</th>\n",
       "    </tr>\n",
       "  </thead>\n",
       "  <tbody>\n",
       "    <tr>\n",
       "      <th>0</th>\n",
       "      <td>01/01/2012 00:00</td>\n",
       "      <td>21.441080</td>\n",
       "      <td>-8.8</td>\n",
       "      <td>13.0</td>\n",
       "      <td>Sunday</td>\n",
       "      <td>1.0</td>\n",
       "      <td>1.0</td>\n",
       "      <td>1.0</td>\n",
       "      <td>0.0</td>\n",
       "      <td>0.0</td>\n",
       "    </tr>\n",
       "    <tr>\n",
       "      <th>1</th>\n",
       "      <td>01/01/2012 01:00</td>\n",
       "      <td>21.636080</td>\n",
       "      <td>-8.5</td>\n",
       "      <td>13.0</td>\n",
       "      <td>Sunday</td>\n",
       "      <td>1.0</td>\n",
       "      <td>1.0</td>\n",
       "      <td>1.0</td>\n",
       "      <td>0.0</td>\n",
       "      <td>0.0</td>\n",
       "    </tr>\n",
       "    <tr>\n",
       "      <th>2</th>\n",
       "      <td>01/01/2012 02:00</td>\n",
       "      <td>21.195580</td>\n",
       "      <td>-8.8</td>\n",
       "      <td>13.0</td>\n",
       "      <td>Sunday</td>\n",
       "      <td>1.0</td>\n",
       "      <td>1.0</td>\n",
       "      <td>1.0</td>\n",
       "      <td>130.0</td>\n",
       "      <td>1.0</td>\n",
       "    </tr>\n",
       "    <tr>\n",
       "      <th>3</th>\n",
       "      <td>01/01/2012 03:00</td>\n",
       "      <td>20.775913</td>\n",
       "      <td>-8.2</td>\n",
       "      <td>13.0</td>\n",
       "      <td>Sunday</td>\n",
       "      <td>1.0</td>\n",
       "      <td>1.0</td>\n",
       "      <td>1.0</td>\n",
       "      <td>130.0</td>\n",
       "      <td>1.0</td>\n",
       "    </tr>\n",
       "    <tr>\n",
       "      <th>4</th>\n",
       "      <td>01/01/2012 04:00</td>\n",
       "      <td>20.453913</td>\n",
       "      <td>-6.7</td>\n",
       "      <td>13.0</td>\n",
       "      <td>Sunday</td>\n",
       "      <td>1.0</td>\n",
       "      <td>1.0</td>\n",
       "      <td>1.0</td>\n",
       "      <td>110.0</td>\n",
       "      <td>1.0</td>\n",
       "    </tr>\n",
       "  </tbody>\n",
       "</table>\n",
       "</div>"
      ],
      "text/plain": [
       "             tstamp  consumed_heat  temp  cloud day_of_week  \\\n",
       "0  01/01/2012 00:00      21.441080  -8.8   13.0      Sunday   \n",
       "1  01/01/2012 01:00      21.636080  -8.5   13.0      Sunday   \n",
       "2  01/01/2012 02:00      21.195580  -8.8   13.0      Sunday   \n",
       "3  01/01/2012 03:00      20.775913  -8.2   13.0      Sunday   \n",
       "4  01/01/2012 04:00      20.453913  -6.7   13.0      Sunday   \n",
       "\n",
       "   holiday_in_general  school_holiday_period  public_holiday_period  \\\n",
       "0                 1.0                    1.0                    1.0   \n",
       "1                 1.0                    1.0                    1.0   \n",
       "2                 1.0                    1.0                    1.0   \n",
       "3                 1.0                    1.0                    1.0   \n",
       "4                 1.0                    1.0                    1.0   \n",
       "\n",
       "   wind_direction  wind_speed  \n",
       "0             0.0         0.0  \n",
       "1             0.0         0.0  \n",
       "2           130.0         1.0  \n",
       "3           130.0         1.0  \n",
       "4           110.0         1.0  "
      ]
     },
     "execution_count": 25,
     "metadata": {},
     "output_type": "execute_result"
    }
   ],
   "source": [
    "df = pd.read_csv(\"data/Case option 3 - Data.csv\")\n",
    "print(f\"Number of rows: {len(df)}\")\n",
    "print(df.dtypes)\n",
    "df.head()"
   ]
  },
  {
   "cell_type": "markdown",
   "id": "417ac6fd-07a1-4416-9ff6-bcf2d63d514f",
   "metadata": {
    "tags": []
   },
   "source": [
    "## 3. EDA\n",
    "df.plot()"
   ]
  },
  {
   "cell_type": "code",
   "execution_count": 26,
   "id": "f6ab7029-a411-4d23-a648-b453967812e8",
   "metadata": {},
   "outputs": [
    {
     "data": {
      "text/plain": [
       "<AxesSubplot:>"
      ]
     },
     "execution_count": 26,
     "metadata": {},
     "output_type": "execute_result"
    },
    {
     "data": {
      "image/png": "[encoded data removed]",
      "text/plain": [
       "<Figure size 432x288 with 1 Axes>"
      ]
     },
     "metadata": {
      "needs_background": "light"
     },
     "output_type": "display_data"
    }
   ],
   "source": [
    "df.plot()"
   ]
  },
  {
   "cell_type": "markdown",
   "id": "4c65e3ae-3473-4e27-8b0d-e6adf692f930",
   "metadata": {
    "tags": []
   },
   "source": [
    "## 4. Modelling"
   ]
  },
  {
   "cell_type": "markdown",
   "id": "1bea4d7b-01ee-4030-b384-bfb7c0439145",
   "metadata": {
    "tags": []
   },
   "source": [
    "## 5. Result"
   ]
  },
  {
   "cell_type": "markdown",
   "id": "03b70ecd-fab3-4646-a6ec-296815aa34d4",
   "metadata": {
    "jp-MarkdownHeadingCollapsed": true,
    "tags": []
   },
   "source": [
    "## 6. Discussion and Conclusion"
   ]
  }
 ],
 "metadata": {
  "kernelspec": {
   "display_name": "Python 3",
   "language": "python",
   "name": "python3"
  },
  "language_info": {
   "codemirror_mode": {
    "name": "ipython",
    "version": 3
   },
   "file_extension": ".py",
   "mimetype": "text/x-python",
   "name": "python",
   "nbconvert_exporter": "python",
   "pygments_lexer": "ipython3",
   "version": "3.6.12"
  }
 },
 "nbformat": 4,
 "nbformat_minor": 5
}
